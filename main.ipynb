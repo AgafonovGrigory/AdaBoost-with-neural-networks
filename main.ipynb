{
 "cells": [
  {
   "cell_type": "code",
   "execution_count": 1,
   "id": "fd440f13",
   "metadata": {
    "ExecuteTime": {
     "end_time": "2023-10-15T20:43:27.258779Z",
     "start_time": "2023-10-15T20:43:25.996675Z"
    }
   },
   "outputs": [],
   "source": [
    "from additional_func import get_and_prep_func, train_test_split, create_torch_dataloader, accuracy\n",
    "from classes import NeuralNet,AdaBoost\n",
    "import torch\n",
    "import numpy as np"
   ]
  },
  {
   "cell_type": "markdown",
   "id": "4239e95f",
   "metadata": {},
   "source": [
    "## Getting the prepared dataset"
   ]
  },
  {
   "cell_type": "code",
   "execution_count": 2,
   "id": "e4678485",
   "metadata": {
    "ExecuteTime": {
     "end_time": "2023-10-15T20:43:27.877622Z",
     "start_time": "2023-10-15T20:43:27.807530Z"
    }
   },
   "outputs": [],
   "source": [
    "df = get_and_prep_func()"
   ]
  },
  {
   "cell_type": "code",
   "execution_count": 3,
   "id": "14d7b7ba",
   "metadata": {
    "ExecuteTime": {
     "end_time": "2023-10-15T20:43:28.028572Z",
     "start_time": "2023-10-15T20:43:27.991088Z"
    }
   },
   "outputs": [
    {
     "data": {
      "text/html": [
       "<div>\n",
       "<style scoped>\n",
       "    .dataframe tbody tr th:only-of-type {\n",
       "        vertical-align: middle;\n",
       "    }\n",
       "\n",
       "    .dataframe tbody tr th {\n",
       "        vertical-align: top;\n",
       "    }\n",
       "\n",
       "    .dataframe thead th {\n",
       "        text-align: right;\n",
       "    }\n",
       "</style>\n",
       "<table border=\"1\" class=\"dataframe\">\n",
       "  <thead>\n",
       "    <tr style=\"text-align: right;\">\n",
       "      <th></th>\n",
       "      <th>x1</th>\n",
       "      <th>x2</th>\n",
       "      <th>x3</th>\n",
       "      <th>x4</th>\n",
       "      <th>x5</th>\n",
       "      <th>x6</th>\n",
       "      <th>x7</th>\n",
       "      <th>x8</th>\n",
       "      <th>x9</th>\n",
       "      <th>x10</th>\n",
       "      <th>target</th>\n",
       "    </tr>\n",
       "  </thead>\n",
       "  <tbody>\n",
       "    <tr>\n",
       "      <th>0</th>\n",
       "      <td>-0.062049</td>\n",
       "      <td>-0.111054</td>\n",
       "      <td>0.110340</td>\n",
       "      <td>-0.362397</td>\n",
       "      <td>1.049038</td>\n",
       "      <td>0.509581</td>\n",
       "      <td>-0.910055</td>\n",
       "      <td>0.601275</td>\n",
       "      <td>-1.683499</td>\n",
       "      <td>1.102286</td>\n",
       "      <td>1.0</td>\n",
       "    </tr>\n",
       "    <tr>\n",
       "      <th>1</th>\n",
       "      <td>-0.030799</td>\n",
       "      <td>0.054564</td>\n",
       "      <td>0.312363</td>\n",
       "      <td>0.257292</td>\n",
       "      <td>-1.020113</td>\n",
       "      <td>-0.080256</td>\n",
       "      <td>-0.133488</td>\n",
       "      <td>2.007042</td>\n",
       "      <td>0.240627</td>\n",
       "      <td>0.526222</td>\n",
       "      <td>1.0</td>\n",
       "    </tr>\n",
       "    <tr>\n",
       "      <th>2</th>\n",
       "      <td>0.014842</td>\n",
       "      <td>0.059207</td>\n",
       "      <td>0.326520</td>\n",
       "      <td>0.616788</td>\n",
       "      <td>-0.978302</td>\n",
       "      <td>-0.175741</td>\n",
       "      <td>-0.138935</td>\n",
       "      <td>1.205231</td>\n",
       "      <td>1.247597</td>\n",
       "      <td>0.325159</td>\n",
       "      <td>1.0</td>\n",
       "    </tr>\n",
       "    <tr>\n",
       "      <th>3</th>\n",
       "      <td>-0.041400</td>\n",
       "      <td>-1.177580</td>\n",
       "      <td>-0.350045</td>\n",
       "      <td>0.836391</td>\n",
       "      <td>0.180635</td>\n",
       "      <td>0.368622</td>\n",
       "      <td>2.074885</td>\n",
       "      <td>0.460932</td>\n",
       "      <td>1.857980</td>\n",
       "      <td>-1.629638</td>\n",
       "      <td>1.0</td>\n",
       "    </tr>\n",
       "    <tr>\n",
       "      <th>4</th>\n",
       "      <td>-0.035763</td>\n",
       "      <td>0.230788</td>\n",
       "      <td>0.286167</td>\n",
       "      <td>0.091809</td>\n",
       "      <td>-0.810984</td>\n",
       "      <td>-0.172459</td>\n",
       "      <td>-0.272057</td>\n",
       "      <td>1.456883</td>\n",
       "      <td>0.836236</td>\n",
       "      <td>0.767478</td>\n",
       "      <td>1.0</td>\n",
       "    </tr>\n",
       "  </tbody>\n",
       "</table>\n",
       "</div>"
      ],
      "text/plain": [
       "         x1        x2        x3        x4        x5        x6        x7  \\\n",
       "0 -0.062049 -0.111054  0.110340 -0.362397  1.049038  0.509581 -0.910055   \n",
       "1 -0.030799  0.054564  0.312363  0.257292 -1.020113 -0.080256 -0.133488   \n",
       "2  0.014842  0.059207  0.326520  0.616788 -0.978302 -0.175741 -0.138935   \n",
       "3 -0.041400 -1.177580 -0.350045  0.836391  0.180635  0.368622  2.074885   \n",
       "4 -0.035763  0.230788  0.286167  0.091809 -0.810984 -0.172459 -0.272057   \n",
       "\n",
       "         x8        x9       x10  target  \n",
       "0  0.601275 -1.683499  1.102286     1.0  \n",
       "1  2.007042  0.240627  0.526222     1.0  \n",
       "2  1.205231  1.247597  0.325159     1.0  \n",
       "3  0.460932  1.857980 -1.629638     1.0  \n",
       "4  1.456883  0.836236  0.767478     1.0  "
      ]
     },
     "execution_count": 3,
     "metadata": {},
     "output_type": "execute_result"
    }
   ],
   "source": [
    "df.head()"
   ]
  },
  {
   "cell_type": "markdown",
   "id": "d66b3585",
   "metadata": {},
   "source": [
    "## Train test split"
   ]
  },
  {
   "cell_type": "code",
   "execution_count": 4,
   "id": "b6ec1da9",
   "metadata": {
    "ExecuteTime": {
     "end_time": "2023-10-15T20:43:28.558499Z",
     "start_time": "2023-10-15T20:43:28.548723Z"
    }
   },
   "outputs": [],
   "source": [
    "df_train, df_test = train_test_split(df)"
   ]
  },
  {
   "cell_type": "markdown",
   "id": "1d4a13d7",
   "metadata": {},
   "source": [
    "## Creating DataLoader"
   ]
  },
  {
   "cell_type": "code",
   "execution_count": 5,
   "id": "bfd1caf2",
   "metadata": {
    "ExecuteTime": {
     "end_time": "2023-10-15T20:43:28.922865Z",
     "start_time": "2023-10-15T20:43:28.918764Z"
    }
   },
   "outputs": [],
   "source": [
    "train_batch_size = 50\n",
    "test_batch_size = 50"
   ]
  },
  {
   "cell_type": "code",
   "execution_count": 6,
   "id": "ddcd96a2",
   "metadata": {
    "ExecuteTime": {
     "end_time": "2023-10-15T20:43:29.113729Z",
     "start_time": "2023-10-15T20:43:29.096053Z"
    }
   },
   "outputs": [],
   "source": [
    "train_dataloader = create_torch_dataloader(\n",
    "    df_train, train_batch_size, shuffle=True)\n",
    "test_dataloader = create_torch_dataloader(\n",
    "    df_test, test_batch_size, shuffle=True)"
   ]
  },
  {
   "cell_type": "markdown",
   "id": "1d5e115d",
   "metadata": {},
   "source": [
    "# Model 1: Simple neural network with one hidden layer"
   ]
  },
  {
   "cell_type": "markdown",
   "id": "428e2161",
   "metadata": {
    "ExecuteTime": {
     "end_time": "2023-10-14T21:07:54.053482Z",
     "start_time": "2023-10-14T21:07:54.046019Z"
    }
   },
   "source": [
    "## Hyperparameters"
   ]
  },
  {
   "cell_type": "code",
   "execution_count": 27,
   "id": "33f0860f",
   "metadata": {
    "ExecuteTime": {
     "end_time": "2023-10-15T20:55:24.868700Z",
     "start_time": "2023-10-15T20:55:24.856986Z"
    }
   },
   "outputs": [],
   "source": [
    "learning_rate = 1e-3\n",
    "n_epoch = 500\n",
    "size_of_hidden_layer = 20"
   ]
  },
  {
   "cell_type": "markdown",
   "id": "d1883d88",
   "metadata": {},
   "source": [
    "## Initializing  a model"
   ]
  },
  {
   "cell_type": "code",
   "execution_count": 30,
   "id": "c331873f",
   "metadata": {
    "ExecuteTime": {
     "end_time": "2023-10-15T20:56:17.019326Z",
     "start_time": "2023-10-15T20:56:16.993431Z"
    }
   },
   "outputs": [
    {
     "data": {
      "text/plain": [
       "NeuralNet(\n",
       "  (layers): Sequential(\n",
       "    (0): Linear(in_features=10, out_features=20, bias=True)\n",
       "    (1): ReLU()\n",
       "    (2): Linear(in_features=20, out_features=1, bias=True)\n",
       "    (3): Sigmoid()\n",
       "  )\n",
       ")"
      ]
     },
     "execution_count": 30,
     "metadata": {},
     "output_type": "execute_result"
    }
   ],
   "source": [
    "model1 = NeuralNet(10,size_of_hidden_layer)\n",
    "criterion = torch.nn.BCELoss()\n",
    "optimizer = torch.optim.Adam(model1.parameters(), lr=learning_rate)\n",
    "model1"
   ]
  },
  {
   "cell_type": "markdown",
   "id": "654ac84b",
   "metadata": {},
   "source": [
    "## Training"
   ]
  },
  {
   "cell_type": "code",
   "execution_count": 31,
   "id": "ff2f4057",
   "metadata": {
    "ExecuteTime": {
     "end_time": "2023-10-15T20:57:13.961493Z",
     "start_time": "2023-10-15T20:56:17.692380Z"
    }
   },
   "outputs": [
    {
     "name": "stdout",
     "output_type": "stream",
     "text": [
      "Epoch 100/500, Step 42/42, train_loss: 0.334689, accuracy on test: 95.3, std: 1.3\n",
      "Epoch 200/500, Step 42/42, train_loss: 0.326275, accuracy on test: 94.7, std: 2.4\n",
      "Epoch 300/500, Step 42/42, train_loss: 0.030503, accuracy on test: 94.9, std: 3.1\n",
      "Epoch 400/500, Step 42/42, train_loss: 0.302544, accuracy on test: 95.3, std: 3.5\n",
      "Epoch 500/500, Step 42/42, train_loss: 0.066979, accuracy on test: 94.7, std: 2.4\n"
     ]
    }
   ],
   "source": [
    "n_total_steps = len(train_dataloader)\n",
    "test_acc_mean = np.array([])\n",
    "test_acc_std = np.array([])\n",
    "step = np.array([0])\n",
    "for epoch in range(n_epoch):\n",
    "    for i, (X, labels) in enumerate(train_dataloader):\n",
    "        pred = model1(X)\n",
    "        loss = criterion(pred, labels)\n",
    "        optimizer.zero_grad()\n",
    "        loss.backward()\n",
    "        optimizer.step()\n",
    "        if (epoch+1) % 100 == 0 and i == len(train_dataloader) - 1:\n",
    "            acc_mean, acc_std = accuracy(model1, test_dataloader)\n",
    "            test_acc_mean = np.append(test_acc_mean, acc_mean)\n",
    "            test_acc_std = np.append(test_acc_std, acc_std)\n",
    "            step = np.append(step, step[-1] + 10)\n",
    "            print(\n",
    "                f'Epoch {epoch+1}/{n_epoch}, Step {i+1}/{n_total_steps}, train_loss: {loss:.6f}, accuracy on test: {acc_mean:.1f}, std: {acc_std:.1f}')\n"
   ]
  },
  {
   "cell_type": "code",
   "execution_count": 60,
   "id": "d1ad9163",
   "metadata": {
    "ExecuteTime": {
     "end_time": "2023-10-15T21:02:24.010613Z",
     "start_time": "2023-10-15T21:02:23.983691Z"
    }
   },
   "outputs": [
    {
     "name": "stdout",
     "output_type": "stream",
     "text": [
      "Final accuracy: 95.091 std: 2.875 \n"
     ]
    }
   ],
   "source": [
    "final_acc_1, final_std_1=accuracy(model1, test_dataloader)\n",
    "print(f'Final accuracy: {final_acc_1:.3f} std: {final_std_1:.3f} ')"
   ]
  },
  {
   "cell_type": "markdown",
   "id": "099b9d4a",
   "metadata": {},
   "source": [
    "# Model 2: AdaBoost with a simple neural network as  a weak classifier"
   ]
  },
  {
   "cell_type": "markdown",
   "id": "2934223d",
   "metadata": {},
   "source": [
    "## Hyperparameters"
   ]
  },
  {
   "cell_type": "code",
   "execution_count": 41,
   "id": "9a7e1a44",
   "metadata": {
    "ExecuteTime": {
     "end_time": "2023-10-15T21:01:24.336591Z",
     "start_time": "2023-10-15T21:01:24.313512Z"
    }
   },
   "outputs": [],
   "source": [
    "learning_rate = 1e-3\n",
    "n_steps = 500\n",
    "size_of_hidden_layer = 20\n",
    "T = 10 #number of weak classifiers"
   ]
  },
  {
   "cell_type": "markdown",
   "id": "c8689594",
   "metadata": {},
   "source": [
    "## Initializing a model"
   ]
  },
  {
   "cell_type": "code",
   "execution_count": 42,
   "id": "c084df43",
   "metadata": {
    "ExecuteTime": {
     "end_time": "2023-10-15T21:01:25.061791Z",
     "start_time": "2023-10-15T21:01:25.020935Z"
    }
   },
   "outputs": [],
   "source": [
    "Ada = AdaBoost(weak_classifier=NeuralNet, T = T, df_train=df_train)"
   ]
  },
  {
   "cell_type": "markdown",
   "id": "c9ad36dd",
   "metadata": {
    "ExecuteTime": {
     "end_time": "2023-10-14T21:29:03.026750Z",
     "start_time": "2023-10-14T21:29:03.014744Z"
    }
   },
   "source": [
    "## Training"
   ]
  },
  {
   "cell_type": "code",
   "execution_count": 43,
   "id": "5693ecc1",
   "metadata": {
    "ExecuteTime": {
     "end_time": "2023-10-15T21:01:47.497731Z",
     "start_time": "2023-10-15T21:01:27.004342Z"
    }
   },
   "outputs": [],
   "source": [
    "Ada.main_train(layer_length=size_of_hidden_layer, n_steps = n_steps, lr = learning_rate)"
   ]
  },
  {
   "cell_type": "code",
   "execution_count": 44,
   "id": "95d0c6b7",
   "metadata": {
    "ExecuteTime": {
     "end_time": "2023-10-15T21:01:47.632336Z",
     "start_time": "2023-10-15T21:01:47.502861Z"
    }
   },
   "outputs": [
    {
     "name": "stdout",
     "output_type": "stream",
     "text": [
      "Final accuracy: 95.455 std: 2.965 \n"
     ]
    }
   ],
   "source": [
    "final_acc_2, final_std_2=accuracy(Ada.predict, test_dataloader)\n",
    "print(f'Final accuracy: {final_acc_2:.3f} std: {final_std_2:.3f} ')"
   ]
  },
  {
   "cell_type": "markdown",
   "id": "b35e7700",
   "metadata": {},
   "source": [
    "# Results"
   ]
  },
  {
   "cell_type": "markdown",
   "id": "5e7e9860",
   "metadata": {
    "ExecuteTime": {
     "end_time": "2023-10-14T21:31:48.958811Z",
     "start_time": "2023-10-14T21:31:48.945936Z"
    }
   },
   "source": [
    "### We compared the performance of two models: one is a simple neural network with one hidden layer and another is the same neural network which is boosted using the Adaboost method. Here are the accuracy scores of there two models:"
   ]
  },
  {
   "cell_type": "code",
   "execution_count": 64,
   "id": "e225c3e2",
   "metadata": {
    "ExecuteTime": {
     "end_time": "2023-10-15T21:07:07.386048Z",
     "start_time": "2023-10-15T21:07:07.367750Z"
    }
   },
   "outputs": [
    {
     "name": "stdout",
     "output_type": "stream",
     "text": [
      "Simple neural netwok: accuracy 95.091, std 2.875\n",
      "AdaBoost with neural networks: accuracy 95.455, std 2.965\n"
     ]
    }
   ],
   "source": [
    "print(f\"Simple neural netwok: accuracy {final_acc_1:.3f}, std {final_std_1:.3f}\")\n",
    "print(f\"AdaBoost with neural networks: accuracy {final_acc_2:.3f}, std {final_std_2:.3f}\")"
   ]
  },
  {
   "cell_type": "markdown",
   "id": "add26b5d",
   "metadata": {},
   "source": [
    "### We can conclude that there is no significant difference between the models, i.e. boosting improves the accuracy of classification only a little. It can be explained as follows: if you already have a strong learner, the benefits of boosting are less relevant. Even a simple neural network with one hidden layer can’t be considered a weak learner, while boosting is known to perform well with weak learners such as decision stumps"
   ]
  }
 ],
 "metadata": {
  "kernelspec": {
   "display_name": "Python 3 (ipykernel)",
   "language": "python",
   "name": "python3"
  },
  "language_info": {
   "codemirror_mode": {
    "name": "ipython",
    "version": 3
   },
   "file_extension": ".py",
   "mimetype": "text/x-python",
   "name": "python",
   "nbconvert_exporter": "python",
   "pygments_lexer": "ipython3",
   "version": "3.9.12"
  }
 },
 "nbformat": 4,
 "nbformat_minor": 5
}
