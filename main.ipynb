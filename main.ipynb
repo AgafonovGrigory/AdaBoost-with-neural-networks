{
 "cells": [
  {
   "cell_type": "code",
   "execution_count": 102,
   "id": "fd440f13",
   "metadata": {
    "ExecuteTime": {
     "end_time": "2023-10-14T21:53:33.148877Z",
     "start_time": "2023-10-14T21:53:33.116370Z"
    }
   },
   "outputs": [],
   "source": [
    "from additional_func import get_and_prep_func, train_test_split, create_torch_dataloader, accuracy\n",
    "from classes import NeuralNet,AdaBoost"
   ]
  },
  {
   "cell_type": "markdown",
   "id": "4239e95f",
   "metadata": {},
   "source": [
    "### Getting prepared dataset"
   ]
  },
  {
   "cell_type": "code",
   "execution_count": 103,
   "id": "e4678485",
   "metadata": {
    "ExecuteTime": {
     "end_time": "2023-10-14T21:53:34.206257Z",
     "start_time": "2023-10-14T21:53:34.095261Z"
    }
   },
   "outputs": [],
   "source": [
    "df = get_and_prep_func()"
   ]
  },
  {
   "cell_type": "code",
   "execution_count": 104,
   "id": "14d7b7ba",
   "metadata": {
    "ExecuteTime": {
     "end_time": "2023-10-14T21:53:35.102625Z",
     "start_time": "2023-10-14T21:53:35.061042Z"
    }
   },
   "outputs": [
    {
     "data": {
      "text/html": [
       "<div>\n",
       "<style scoped>\n",
       "    .dataframe tbody tr th:only-of-type {\n",
       "        vertical-align: middle;\n",
       "    }\n",
       "\n",
       "    .dataframe tbody tr th {\n",
       "        vertical-align: top;\n",
       "    }\n",
       "\n",
       "    .dataframe thead th {\n",
       "        text-align: right;\n",
       "    }\n",
       "</style>\n",
       "<table border=\"1\" class=\"dataframe\">\n",
       "  <thead>\n",
       "    <tr style=\"text-align: right;\">\n",
       "      <th></th>\n",
       "      <th>x1</th>\n",
       "      <th>x2</th>\n",
       "      <th>x3</th>\n",
       "      <th>x4</th>\n",
       "      <th>x5</th>\n",
       "      <th>x6</th>\n",
       "      <th>x7</th>\n",
       "      <th>x8</th>\n",
       "      <th>x9</th>\n",
       "      <th>x10</th>\n",
       "      <th>log(t_90)</th>\n",
       "    </tr>\n",
       "  </thead>\n",
       "  <tbody>\n",
       "    <tr>\n",
       "      <th>0</th>\n",
       "      <td>-0.062049</td>\n",
       "      <td>-0.111054</td>\n",
       "      <td>0.110340</td>\n",
       "      <td>-0.362397</td>\n",
       "      <td>1.049038</td>\n",
       "      <td>0.509581</td>\n",
       "      <td>-0.910055</td>\n",
       "      <td>0.601275</td>\n",
       "      <td>-1.683499</td>\n",
       "      <td>1.102286</td>\n",
       "      <td>1.0</td>\n",
       "    </tr>\n",
       "    <tr>\n",
       "      <th>1</th>\n",
       "      <td>-0.030799</td>\n",
       "      <td>0.054564</td>\n",
       "      <td>0.312363</td>\n",
       "      <td>0.257292</td>\n",
       "      <td>-1.020113</td>\n",
       "      <td>-0.080256</td>\n",
       "      <td>-0.133488</td>\n",
       "      <td>2.007042</td>\n",
       "      <td>0.240627</td>\n",
       "      <td>0.526222</td>\n",
       "      <td>1.0</td>\n",
       "    </tr>\n",
       "    <tr>\n",
       "      <th>2</th>\n",
       "      <td>0.014842</td>\n",
       "      <td>0.059207</td>\n",
       "      <td>0.326520</td>\n",
       "      <td>0.616788</td>\n",
       "      <td>-0.978302</td>\n",
       "      <td>-0.175741</td>\n",
       "      <td>-0.138935</td>\n",
       "      <td>1.205231</td>\n",
       "      <td>1.247597</td>\n",
       "      <td>0.325159</td>\n",
       "      <td>1.0</td>\n",
       "    </tr>\n",
       "    <tr>\n",
       "      <th>3</th>\n",
       "      <td>-0.041400</td>\n",
       "      <td>-1.177580</td>\n",
       "      <td>-0.350045</td>\n",
       "      <td>0.836391</td>\n",
       "      <td>0.180635</td>\n",
       "      <td>0.368622</td>\n",
       "      <td>2.074885</td>\n",
       "      <td>0.460932</td>\n",
       "      <td>1.857980</td>\n",
       "      <td>-1.629638</td>\n",
       "      <td>1.0</td>\n",
       "    </tr>\n",
       "    <tr>\n",
       "      <th>4</th>\n",
       "      <td>-0.035763</td>\n",
       "      <td>0.230788</td>\n",
       "      <td>0.286167</td>\n",
       "      <td>0.091809</td>\n",
       "      <td>-0.810984</td>\n",
       "      <td>-0.172459</td>\n",
       "      <td>-0.272057</td>\n",
       "      <td>1.456883</td>\n",
       "      <td>0.836236</td>\n",
       "      <td>0.767478</td>\n",
       "      <td>1.0</td>\n",
       "    </tr>\n",
       "  </tbody>\n",
       "</table>\n",
       "</div>"
      ],
      "text/plain": [
       "         x1        x2        x3        x4        x5        x6        x7        x8        x9       x10  log(t_90)\n",
       "0 -0.062049 -0.111054  0.110340 -0.362397  1.049038  0.509581 -0.910055  0.601275 -1.683499  1.102286        1.0\n",
       "1 -0.030799  0.054564  0.312363  0.257292 -1.020113 -0.080256 -0.133488  2.007042  0.240627  0.526222        1.0\n",
       "2  0.014842  0.059207  0.326520  0.616788 -0.978302 -0.175741 -0.138935  1.205231  1.247597  0.325159        1.0\n",
       "3 -0.041400 -1.177580 -0.350045  0.836391  0.180635  0.368622  2.074885  0.460932  1.857980 -1.629638        1.0\n",
       "4 -0.035763  0.230788  0.286167  0.091809 -0.810984 -0.172459 -0.272057  1.456883  0.836236  0.767478        1.0"
      ]
     },
     "execution_count": 104,
     "metadata": {},
     "output_type": "execute_result"
    }
   ],
   "source": [
    "df.head()"
   ]
  },
  {
   "cell_type": "markdown",
   "id": "d66b3585",
   "metadata": {},
   "source": [
    "### Train test split"
   ]
  },
  {
   "cell_type": "code",
   "execution_count": 105,
   "id": "b6ec1da9",
   "metadata": {
    "ExecuteTime": {
     "end_time": "2023-10-14T21:53:35.748815Z",
     "start_time": "2023-10-14T21:53:35.735160Z"
    }
   },
   "outputs": [],
   "source": [
    "df_train, df_test = train_test_split(df)"
   ]
  },
  {
   "cell_type": "markdown",
   "id": "1d4a13d7",
   "metadata": {},
   "source": [
    "### Creating DataLoader"
   ]
  },
  {
   "cell_type": "code",
   "execution_count": 106,
   "id": "bfd1caf2",
   "metadata": {
    "ExecuteTime": {
     "end_time": "2023-10-14T21:53:36.022049Z",
     "start_time": "2023-10-14T21:53:36.014221Z"
    }
   },
   "outputs": [],
   "source": [
    "train_batch_size = 50\n",
    "test_batch_size = 50"
   ]
  },
  {
   "cell_type": "code",
   "execution_count": 107,
   "id": "ddcd96a2",
   "metadata": {
    "ExecuteTime": {
     "end_time": "2023-10-14T21:53:36.168789Z",
     "start_time": "2023-10-14T21:53:36.143608Z"
    }
   },
   "outputs": [],
   "source": [
    "train_dataloader = create_torch_dataloader(\n",
    "    df_train, train_batch_size, shuffle=True)\n",
    "test_dataloader = create_torch_dataloader(\n",
    "    df_test, test_batch_size, shuffle=True)"
   ]
  },
  {
   "cell_type": "markdown",
   "id": "1d5e115d",
   "metadata": {},
   "source": [
    "# Model 1: Simple neural network with one hidden layer"
   ]
  },
  {
   "cell_type": "markdown",
   "id": "428e2161",
   "metadata": {
    "ExecuteTime": {
     "end_time": "2023-10-14T21:07:54.053482Z",
     "start_time": "2023-10-14T21:07:54.046019Z"
    }
   },
   "source": [
    "### Hyperparameters"
   ]
  },
  {
   "cell_type": "code",
   "execution_count": 108,
   "id": "33f0860f",
   "metadata": {
    "ExecuteTime": {
     "end_time": "2023-10-14T21:53:36.587100Z",
     "start_time": "2023-10-14T21:53:36.565960Z"
    }
   },
   "outputs": [],
   "source": [
    "learning_rate = 1e-3\n",
    "n_epoch = 500\n",
    "size_of_hidden_layer = 20"
   ]
  },
  {
   "cell_type": "markdown",
   "id": "d1883d88",
   "metadata": {},
   "source": [
    "### Initializing model"
   ]
  },
  {
   "cell_type": "code",
   "execution_count": 109,
   "id": "c331873f",
   "metadata": {
    "ExecuteTime": {
     "end_time": "2023-10-14T21:53:37.130113Z",
     "start_time": "2023-10-14T21:53:37.109099Z"
    }
   },
   "outputs": [
    {
     "data": {
      "text/plain": [
       "NeuralNet(\n",
       "  (layers): Sequential(\n",
       "    (0): Linear(in_features=10, out_features=20, bias=True)\n",
       "    (1): ReLU()\n",
       "    (2): Linear(in_features=20, out_features=1, bias=True)\n",
       "    (3): Sigmoid()\n",
       "  )\n",
       ")"
      ]
     },
     "execution_count": 109,
     "metadata": {},
     "output_type": "execute_result"
    }
   ],
   "source": [
    "model1 = NeuralNet(10,size_of_hidden_layer)\n",
    "criterion = torch.nn.BCELoss()\n",
    "optimizer = torch.optim.Adam(model1.parameters(), lr=learning_rate)\n",
    "model1"
   ]
  },
  {
   "cell_type": "markdown",
   "id": "654ac84b",
   "metadata": {},
   "source": [
    "### Training model"
   ]
  },
  {
   "cell_type": "code",
   "execution_count": 110,
   "id": "ff2f4057",
   "metadata": {
    "ExecuteTime": {
     "end_time": "2023-10-14T21:54:35.405814Z",
     "start_time": "2023-10-14T21:53:37.414869Z"
    }
   },
   "outputs": [
    {
     "name": "stdout",
     "output_type": "stream",
     "text": [
      "Epoch 0/500, Step 0/42, train_loss: 0.706668, accuracy on test: 61.9, std: 9.7\n",
      "Epoch 100/500, Step 0/42, train_loss: 0.049435, accuracy on test: 92.9, std: 3.8\n",
      "Epoch 200/500, Step 0/42, train_loss: 0.090635, accuracy on test: 92.9, std: 4.1\n",
      "Epoch 300/500, Step 0/42, train_loss: 0.149682, accuracy on test: 92.2, std: 3.0\n",
      "Epoch 400/500, Step 0/42, train_loss: 0.093578, accuracy on test: 92.2, std: 3.0\n"
     ]
    }
   ],
   "source": [
    "n_total_steps = len(train_dataloader)\n",
    "test_acc_mean = np.array([])\n",
    "test_acc_std = np.array([])\n",
    "step = np.array([0])\n",
    "for epoch in range(n_epoch):\n",
    "    for i, (X, labels) in enumerate(train_dataloader):\n",
    "        pred = model1(X)\n",
    "        loss = criterion(pred, labels)\n",
    "        optimizer.zero_grad()\n",
    "        loss.backward()\n",
    "        optimizer.step()\n",
    "        if (epoch) % 100 == 0 and i == 0:\n",
    "            acc_mean, acc_std = accuracy(model1, test_dataloader)\n",
    "            test_acc_mean = np.append(test_acc_mean, acc_mean)\n",
    "            test_acc_std = np.append(test_acc_std, acc_std)\n",
    "            step = np.append(step, step[-1] + 10)\n",
    "            print(\n",
    "                f'Epoch {epoch}/{n_epoch}, Step {i}/{n_total_steps}, train_loss: {loss:.6f}, accuracy on test: {acc_mean:.1f}, std: {acc_std:.1f}')\n"
   ]
  },
  {
   "cell_type": "markdown",
   "id": "099b9d4a",
   "metadata": {},
   "source": [
    "# Model 2: AdaBoost with simple neural network as weak classifier"
   ]
  },
  {
   "cell_type": "markdown",
   "id": "2934223d",
   "metadata": {},
   "source": [
    "### Hyperparameters"
   ]
  },
  {
   "cell_type": "code",
   "execution_count": 101,
   "id": "9a7e1a44",
   "metadata": {
    "ExecuteTime": {
     "end_time": "2023-10-14T21:39:15.278648Z",
     "start_time": "2023-10-14T21:39:15.265036Z"
    }
   },
   "outputs": [],
   "source": [
    "learning_rate = 1e-3\n",
    "n_steps = 500\n",
    "size_of_hidden_layer = 20\n",
    "T = 10"
   ]
  },
  {
   "cell_type": "markdown",
   "id": "c8689594",
   "metadata": {},
   "source": [
    "### Initializing model"
   ]
  },
  {
   "cell_type": "code",
   "execution_count": 98,
   "id": "c084df43",
   "metadata": {
    "ExecuteTime": {
     "end_time": "2023-10-14T21:38:39.286026Z",
     "start_time": "2023-10-14T21:38:39.270314Z"
    }
   },
   "outputs": [],
   "source": [
    "Ada = AdaBoost(weak_classifier=NeuralNet, T = T, df_train=df_train)"
   ]
  },
  {
   "cell_type": "markdown",
   "id": "c9ad36dd",
   "metadata": {
    "ExecuteTime": {
     "end_time": "2023-10-14T21:29:03.026750Z",
     "start_time": "2023-10-14T21:29:03.014744Z"
    }
   },
   "source": [
    "### Training model"
   ]
  },
  {
   "cell_type": "code",
   "execution_count": 99,
   "id": "5693ecc1",
   "metadata": {
    "ExecuteTime": {
     "end_time": "2023-10-14T21:38:46.811540Z",
     "start_time": "2023-10-14T21:38:39.950745Z"
    }
   },
   "outputs": [],
   "source": [
    "Ada.main_train(layer_length=size_of_hidden_layer, n_steps = n_steps, lr = learning_rate)"
   ]
  },
  {
   "cell_type": "code",
   "execution_count": 100,
   "id": "95d0c6b7",
   "metadata": {
    "ExecuteTime": {
     "end_time": "2023-10-14T21:38:46.898956Z",
     "start_time": "2023-10-14T21:38:46.816765Z"
    }
   },
   "outputs": [
    {
     "name": "stdout",
     "output_type": "stream",
     "text": [
      "Final accuracy: 93.123 std: 4.702 \n"
     ]
    }
   ],
   "source": [
    "final_acc, final_std=accuracy(Ada.predict, test_dataloader)\n",
    "print(f'Final accuracy: {final_acc:.3f} std: {final_std:.3f} ')"
   ]
  },
  {
   "cell_type": "markdown",
   "id": "b35e7700",
   "metadata": {},
   "source": [
    "# Results"
   ]
  },
  {
   "cell_type": "markdown",
   "id": "5e7e9860",
   "metadata": {
    "ExecuteTime": {
     "end_time": "2023-10-14T21:31:48.958811Z",
     "start_time": "2023-10-14T21:31:48.945936Z"
    }
   },
   "source": [
    "There are no significant differences in the models"
   ]
  },
  {
   "cell_type": "code",
   "execution_count": null,
   "id": "e225c3e2",
   "metadata": {},
   "outputs": [],
   "source": []
  }
 ],
 "metadata": {
  "kernelspec": {
   "display_name": "Python 3 (ipykernel)",
   "language": "python",
   "name": "python3"
  },
  "language_info": {
   "codemirror_mode": {
    "name": "ipython",
    "version": 3
   },
   "file_extension": ".py",
   "mimetype": "text/x-python",
   "name": "python",
   "nbconvert_exporter": "python",
   "pygments_lexer": "ipython3",
   "version": "3.9.12"
  }
 },
 "nbformat": 4,
 "nbformat_minor": 5
}
